{
  "nbformat": 4,
  "nbformat_minor": 0,
  "metadata": {
    "colab": {
      "provenance": [],
      "collapsed_sections": []
    },
    "kernelspec": {
      "name": "python3",
      "display_name": "Python 3"
    },
    "language_info": {
      "name": "python"
    }
  },
  "cells": [
    {
      "cell_type": "markdown",
      "source": [
        "**https://www.geeksforgeeks.org/python-programming-examples/**"
      ],
      "metadata": {
        "id": "zVT_dPDTPH3a"
      }
    },
    {
      "cell_type": "markdown",
      "source": [
        "#**Basic Programs:**"
      ],
      "metadata": {
        "id": "dNBfR59SPSkf"
      }
    },
    {
      "cell_type": "markdown",
      "source": [
        "**Python program to add two numbers**"
      ],
      "metadata": {
        "id": "BdMZOC-hPcch"
      }
    },
    {
      "cell_type": "code",
      "execution_count": null,
      "metadata": {
        "colab": {
          "base_uri": "https://localhost:8080/"
        },
        "id": "1qgeeOGUPFie",
        "outputId": "74884cf9-6967-442b-aaca-d9dda541c7da"
      },
      "outputs": [
        {
          "output_type": "stream",
          "name": "stdout",
          "text": [
            "Sum of 5 and 3 is 8\n"
          ]
        }
      ],
      "source": [
        "num1 = 5\n",
        "num2 = 3\n",
        "\n",
        "x = num1 + num2\n",
        "x\n",
        "\n",
        "print('Sum of {0} and {1} is {2}'. format(num1, num2, x))"
      ]
    },
    {
      "cell_type": "code",
      "source": [
        "n1 = input('First number: ')\n",
        "n2 = input('Sewcond number: ')\n",
        "\n",
        "y = n1 + n2\n",
        "\n",
        "print(y)\n",
        "\n",
        "print('Sum of {0} and {1} is {2}'. format(n1, n2, y))"
      ],
      "metadata": {
        "colab": {
          "base_uri": "https://localhost:8080/"
        },
        "id": "rCwiOeVePIgG",
        "outputId": "bd7f8f05-7415-4fee-ae8b-7cae1ca1cfd3"
      },
      "execution_count": null,
      "outputs": [
        {
          "output_type": "stream",
          "name": "stdout",
          "text": [
            "First number: 5\n",
            "Sewcond number: 5\n",
            "55\n",
            "Sum of 5 and 5 is 55\n"
          ]
        }
      ]
    },
    {
      "cell_type": "code",
      "source": [
        "# Python3 program to add two numbers\n",
        "\n",
        "number1 = input(\"First number: \")\n",
        "number2 = input(\"\\nSecond number: \")\n",
        "\n",
        "# Adding two numbers\n",
        "# User might also enter float numbers\n",
        "sum = number1 + number2\n",
        "\n",
        "# Display the sum\n",
        "# will print value in float\n",
        "print(\"The sum of {0} and {1} is {2}\" .format(number1, number2, sum))\n"
      ],
      "metadata": {
        "colab": {
          "base_uri": "https://localhost:8080/"
        },
        "id": "dWz3jfB-QLjN",
        "outputId": "14b32ff9-31c8-4ef0-c995-9f29e0e47977"
      },
      "execution_count": null,
      "outputs": [
        {
          "output_type": "stream",
          "name": "stdout",
          "text": [
            "First number: 5\n",
            "\n",
            "Second number: 5\n",
            "The sum of 5 and 5 is 55\n"
          ]
        }
      ]
    },
    {
      "cell_type": "code",
      "source": [
        "if __name__ == '__main__':\n",
        "  num1 = 36\n",
        "  num2 = 57\n",
        "\n",
        "  s = lambda num1, num2: num1+num2\n",
        "\n",
        "  s\n",
        "\n",
        "  print('Sum of {0} and {1} is {2}'.format(num1, num2, s(num1, num2)))"
      ],
      "metadata": {
        "colab": {
          "base_uri": "https://localhost:8080/"
        },
        "id": "CpkY-hC9Q4FM",
        "outputId": "9e16f145-994b-4ab8-890a-f4467c85b745"
      },
      "execution_count": null,
      "outputs": [
        {
          "output_type": "stream",
          "name": "stdout",
          "text": [
            "Sum of 36 and 57 is 93\n"
          ]
        }
      ]
    },
    {
      "cell_type": "markdown",
      "source": [
        "**Maximum of two numbers in Python**"
      ],
      "metadata": {
        "id": "OHHy-BBMR34s"
      }
    },
    {
      "cell_type": "code",
      "source": [
        "def maximum(a, b):\n",
        "  if a > b:\n",
        "    return a\n",
        "  else:\n",
        "    return b\n",
        "\n",
        "a = 5\n",
        "b = 3\n",
        "\n",
        "print(maximum(a,b))"
      ],
      "metadata": {
        "colab": {
          "base_uri": "https://localhost:8080/"
        },
        "id": "RQfHzRdQRp98",
        "outputId": "59c8b53e-9d32-4816-9c98-d7640766c8ae"
      },
      "execution_count": null,
      "outputs": [
        {
          "output_type": "stream",
          "name": "stdout",
          "text": [
            "5\n"
          ]
        }
      ]
    },
    {
      "cell_type": "code",
      "source": [
        "a = 34\n",
        "b = 36\n",
        "\n",
        "print(max(a,b))"
      ],
      "metadata": {
        "colab": {
          "base_uri": "https://localhost:8080/"
        },
        "id": "c_d_HuzRSNQ2",
        "outputId": "ddbe1e20-bc82-40b9-ba85-7f58662b67c5"
      },
      "execution_count": null,
      "outputs": [
        {
          "output_type": "stream",
          "name": "stdout",
          "text": [
            "36\n"
          ]
        }
      ]
    },
    {
      "cell_type": "code",
      "source": [
        "a = 35\n",
        "b = 36\n",
        "\n",
        "print(a if a>b else b)"
      ],
      "metadata": {
        "colab": {
          "base_uri": "https://localhost:8080/"
        },
        "id": "yuYEWzdiSVTG",
        "outputId": "abc7b7af-2528-4ffb-be1c-94d36a064112"
      },
      "execution_count": null,
      "outputs": [
        {
          "output_type": "stream",
          "name": "stdout",
          "text": [
            "36\n"
          ]
        }
      ]
    },
    {
      "cell_type": "markdown",
      "source": [
        "**Python Program for factorial of a number**"
      ],
      "metadata": {
        "id": "Qaq56xk5S0JY"
      }
    },
    {
      "cell_type": "code",
      "source": [
        "def factorial(n):\n",
        "  return 1 if (n ==0 or n==1) else n*factorial(n-1)\n",
        "\n",
        "n = 5\n",
        "\n",
        "print('Factorial of', n, 'is', factorial(n) )"
      ],
      "metadata": {
        "colab": {
          "base_uri": "https://localhost:8080/"
        },
        "id": "rMur7GqMSlaT",
        "outputId": "e1c25ed5-1655-4f63-98b2-d97e1bb298e6"
      },
      "execution_count": null,
      "outputs": [
        {
          "output_type": "stream",
          "name": "stdout",
          "text": [
            "Factorial of 5 is 120\n"
          ]
        }
      ]
    },
    {
      "cell_type": "code",
      "source": [
        "def factorial(n):\n",
        "  if n<0:\n",
        "    return 0\n",
        "  elif n==0 or n==1:\n",
        "    return 1\n",
        "  else:\n",
        "    fact = 1\n",
        "    while(n>1):\n",
        "      fact = fact*n\n",
        "      n = n-1\n",
        "    return fact\n",
        "\n",
        "n = 3\n",
        "print(factorial(n))\n"
      ],
      "metadata": {
        "colab": {
          "base_uri": "https://localhost:8080/"
        },
        "id": "ef_p79laTbKV",
        "outputId": "770e21a6-e354-42f9-8c92-cabefafddf67"
      },
      "execution_count": null,
      "outputs": [
        {
          "output_type": "stream",
          "name": "stdout",
          "text": [
            "6\n"
          ]
        }
      ]
    },
    {
      "cell_type": "code",
      "source": [
        "# Python 3 program to find\n",
        "# factorial of given number\n",
        "import math\n",
        "\n",
        "def factorial(n):\n",
        "\treturn(math.factorial(n))\n",
        "\n",
        "\n",
        "# Driver Code\n",
        "num = 5\n",
        "print(\"Factorial of\", num, \"is\", factorial(num))\n"
      ],
      "metadata": {
        "colab": {
          "base_uri": "https://localhost:8080/"
        },
        "id": "Ov23FFk0UZe_",
        "outputId": "e6929102-d78a-49ec-fc2d-d0fce7088c7d"
      },
      "execution_count": null,
      "outputs": [
        {
          "output_type": "stream",
          "name": "stdout",
          "text": [
            "Factorial of 5 is 120\n"
          ]
        }
      ]
    },
    {
      "cell_type": "markdown",
      "source": [
        "**Python Program for compound interest**"
      ],
      "metadata": {
        "id": "hQr3bs-2V2iZ"
      }
    },
    {
      "cell_type": "code",
      "source": [
        "def simple_interset(p, r, t):\n",
        "  si = (p * r* t)/100\n",
        "  return si\n",
        "\n",
        "print(simple_interset(1000,5,5))"
      ],
      "metadata": {
        "colab": {
          "base_uri": "https://localhost:8080/"
        },
        "id": "65VGrObkUn4l",
        "outputId": "d3075f4e-9ac1-4166-9642-1918fe25517a"
      },
      "execution_count": null,
      "outputs": [
        {
          "output_type": "stream",
          "name": "stdout",
          "text": [
            "250.0\n"
          ]
        }
      ]
    },
    {
      "cell_type": "markdown",
      "source": [
        "**Python Program for compound interest**"
      ],
      "metadata": {
        "id": "l-rWTXC-WftA"
      }
    },
    {
      "cell_type": "code",
      "source": [
        "def c_i(p, r, t):\n",
        "  amount = p * (pow((1+r/100), t))\n",
        "  ci = amount - p\n",
        "  return ci\n",
        "\n",
        "print(c_i(10000, 10.25, 5))"
      ],
      "metadata": {
        "colab": {
          "base_uri": "https://localhost:8080/"
        },
        "id": "BveHukg2WOuW",
        "outputId": "ca4e0bd2-07e9-4fcc-fad5-26cb50c4c340"
      },
      "execution_count": null,
      "outputs": [
        {
          "output_type": "stream",
          "name": "stdout",
          "text": [
            "6288.946267774416\n"
          ]
        }
      ]
    },
    {
      "cell_type": "code",
      "source": [
        "# Python code\n",
        "# To find compound interest\n",
        "\n",
        "# inputs\n",
        "p= 1200 # principle amount\n",
        "t= 2\t # time\n",
        "r= 5.4 # rate\n",
        "# calculates the compound interest\n",
        "a=p*(1+(r/100))**t # formula for calculating amount\n",
        "ci=a-p # compound interest = amount - principal amount\n",
        "# printing compound interest value\n",
        "print(ci)"
      ],
      "metadata": {
        "colab": {
          "base_uri": "https://localhost:8080/"
        },
        "id": "IRzK1vuuXTbm",
        "outputId": "7be564bf-8c0c-4f6d-a75b-06a0570d6f74"
      },
      "execution_count": null,
      "outputs": [
        {
          "output_type": "stream",
          "name": "stdout",
          "text": [
            "133.0992000000001\n"
          ]
        }
      ]
    },
    {
      "cell_type": "markdown",
      "source": [
        "**Python Program to check Armstrong Number**"
      ],
      "metadata": {
        "id": "_JjYBR30X8ep"
      }
    },
    {
      "cell_type": "code",
      "source": [
        "def armstrong(n):\n",
        "  a = len(str(n))\n",
        "  summ = 0\n",
        "  s = n\n",
        "  #quotient // and remainder %\n",
        "  while(n != 0):\n",
        "    r = n%10\n",
        "    summ += (r**a)\n",
        "    n = n//10\n",
        "    \n",
        "  if(summ == s):\n",
        "    print('yes')\n",
        "  else:\n",
        "    print('not armstrong')\n",
        "\n",
        "armstrong(1634)"
      ],
      "metadata": {
        "colab": {
          "base_uri": "https://localhost:8080/"
        },
        "id": "XkrI8X0WX30O",
        "outputId": "b1b9fec7-3709-460c-cb4f-ec482db0771a"
      },
      "execution_count": null,
      "outputs": [
        {
          "output_type": "stream",
          "name": "stdout",
          "text": [
            "yes\n"
          ]
        }
      ]
    },
    {
      "cell_type": "markdown",
      "source": [
        "**Python Program for Program to find area of a circle**"
      ],
      "metadata": {
        "id": "8YaNTJ_VdQWp"
      }
    },
    {
      "cell_type": "code",
      "source": [
        "# Python program to find Area of a circle\n",
        "\n",
        "def findArea(r):\n",
        "\tPI = 3.142\n",
        "\treturn PI * (r*r)\n",
        "\n",
        "# Driver method\n",
        "print(\"Area is %.6f\" % findArea(5))"
      ],
      "metadata": {
        "colab": {
          "base_uri": "https://localhost:8080/"
        },
        "id": "TTLuXoVbX94I",
        "outputId": "8f1419ee-e270-4486-a33b-b03774ffd25f"
      },
      "execution_count": null,
      "outputs": [
        {
          "output_type": "stream",
          "name": "stdout",
          "text": [
            "Area is 78.550000\n"
          ]
        }
      ]
    },
    {
      "cell_type": "code",
      "source": [
        "# Python program to find Area of a circle using inbuild library\n",
        "\n",
        "import math\n",
        "def area(r):\n",
        "  area = math.pi* pow(r,2)\n",
        "  return print('Area of circle is:' ,area)\n",
        "area(4)"
      ],
      "metadata": {
        "colab": {
          "base_uri": "https://localhost:8080/"
        },
        "id": "yPzOaFwXX97O",
        "outputId": "b02462ed-b0d3-4866-b1b6-8fb52adad40d"
      },
      "execution_count": null,
      "outputs": [
        {
          "output_type": "stream",
          "name": "stdout",
          "text": [
            "Area of circle is: 50.26548245743669\n"
          ]
        }
      ]
    },
    {
      "cell_type": "markdown",
      "source": [
        "**Python program to check whether a number is Prime or not**"
      ],
      "metadata": {
        "id": "MQKlvtCneyN5"
      }
    },
    {
      "cell_type": "code",
      "source": [
        "def pno(n):\n",
        "  for i in range(2, int(n/2)+1):\n",
        "    if(n%i == 0):\n",
        "      print('not')\n",
        "      break\n",
        "  else:\n",
        "    print('yes')"
      ],
      "metadata": {
        "id": "IP6wVgnuez4J"
      },
      "execution_count": null,
      "outputs": []
    },
    {
      "cell_type": "code",
      "source": [
        "pno(10)"
      ],
      "metadata": {
        "colab": {
          "base_uri": "https://localhost:8080/"
        },
        "id": "4xpYFMaWhORC",
        "outputId": "d97cc631-8b5f-4d6c-c26c-d36a6c5c3b46"
      },
      "execution_count": null,
      "outputs": [
        {
          "output_type": "stream",
          "name": "stdout",
          "text": [
            "not\n"
          ]
        }
      ]
    },
    {
      "cell_type": "markdown",
      "source": [
        "**Python program to print all Prime numbers in an Interval**"
      ],
      "metadata": {
        "id": "zXdggvWUeo7y"
      }
    },
    {
      "cell_type": "code",
      "source": [
        "def allpno(x, y):\n",
        "  mynum = []\n",
        "  for i in range(x, y):\n",
        "    if i==0 or i==1:\n",
        "      continue\n",
        "    else:\n",
        "      for j in range(2, int(i/2)+1):\n",
        "        if i%j == 0:\n",
        "          break\n",
        "      else:\n",
        "        mynum.append(i)\n",
        "  return mynum\n",
        "\n",
        "print(allpno(2, 50))"
      ],
      "metadata": {
        "colab": {
          "base_uri": "https://localhost:8080/"
        },
        "id": "U81wHxIRX99-",
        "outputId": "cbd07888-584b-4cca-edcf-5f20c8226507"
      },
      "execution_count": null,
      "outputs": [
        {
          "output_type": "stream",
          "name": "stdout",
          "text": [
            "[2, 3, 5, 7, 11, 13, 17, 19, 23, 29, 31, 37, 41, 43, 47]\n"
          ]
        }
      ]
    },
    {
      "cell_type": "markdown",
      "source": [
        "**Python Program for n-th Fibonacci number**"
      ],
      "metadata": {
        "id": "OMewjjwaj7Nr"
      }
    },
    {
      "cell_type": "code",
      "source": [
        "def fibo(n):\n",
        "  if n <= 0:\n",
        "    print('invalid')\n",
        "  elif n == 1:\n",
        "    return 0\n",
        "  elif n == 2:\n",
        "    return 1\n",
        "  else:\n",
        "    return fibo(n-1) + fibo(n-2)\n",
        "\n",
        "fibo(9)"
      ],
      "metadata": {
        "colab": {
          "base_uri": "https://localhost:8080/"
        },
        "id": "uavU-hR2X-AY",
        "outputId": "20704316-3334-4924-af34-bd2073d497d0"
      },
      "execution_count": null,
      "outputs": [
        {
          "output_type": "execute_result",
          "data": {
            "text/plain": [
              "21"
            ]
          },
          "metadata": {},
          "execution_count": 32
        }
      ]
    },
    {
      "cell_type": "markdown",
      "source": [
        "**Python Program for How to check if a given number is Fibonacci number?**"
      ],
      "metadata": {
        "id": "Z3YgVBQJkeWL"
      }
    },
    {
      "cell_type": "code",
      "source": [
        "import math\n",
        "\n",
        "def checking(n):\n",
        "  s = n**2\n",
        "  x = (5 * s * s + 4)\n",
        "  y = (5 * s * s - 4)\n",
        "  z = int(math.sqrt(s))\n",
        "  if x == s or y == z:\n",
        "    print('yes')\n",
        "  else:\n",
        "    print('no')  "
      ],
      "metadata": {
        "id": "i_Gmv6fGX-Dr"
      },
      "execution_count": null,
      "outputs": []
    },
    {
      "cell_type": "code",
      "source": [
        "checking(8)\n",
        "checking(3)\n",
        "checking(5)"
      ],
      "metadata": {
        "id": "NQlf3seKX-GE",
        "colab": {
          "base_uri": "https://localhost:8080/"
        },
        "outputId": "899ef533-50a1-4f6b-a9ce-0938d994da13"
      },
      "execution_count": null,
      "outputs": [
        {
          "output_type": "stream",
          "name": "stdout",
          "text": [
            "no\n",
            "no\n",
            "no\n"
          ]
        }
      ]
    },
    {
      "cell_type": "code",
      "source": [
        "# python program to check if x is a perfect square\n",
        "import math\n",
        "\n",
        "# A utility function that returns true if x is perfect square\n",
        "\n",
        "\n",
        "def isPerfectSquare(x):\n",
        "\ts = int(math.sqrt(x))\n",
        "\treturn s*s == x\n",
        "\n",
        "# Returns true if n is a Fibonacci Number, else false\n",
        "\n",
        "\n",
        "def isFibonacci(n):\n",
        "\n",
        "\t# n is Fibonacci if one of 5*n*n + 4 or 5*n*n - 4 or both\n",
        "\t# is a perfect square\n",
        "\treturn isPerfectSquare(5*n*n + 4) or isPerfectSquare(5*n*n - 4)\n",
        "\n",
        "\n",
        "# A utility function to test above functions\n",
        "for i in range(1, 11):\n",
        "\tif (isFibonacci(i) == True):\n",
        "\t\tprint(i, \"is a Fibonacci Number\")\n",
        "\telse:\n",
        "\t\tprint(i, \"is a not Fibonacci Number \")"
      ],
      "metadata": {
        "colab": {
          "base_uri": "https://localhost:8080/"
        },
        "id": "esorc8D0Y2MG",
        "outputId": "7dd0646d-f3e8-47db-8181-6d0c20cf2946"
      },
      "execution_count": null,
      "outputs": [
        {
          "output_type": "stream",
          "name": "stdout",
          "text": [
            "1 is a Fibonacci Number\n",
            "2 is a Fibonacci Number\n",
            "3 is a Fibonacci Number\n",
            "4 is a not Fibonacci Number \n",
            "5 is a Fibonacci Number\n",
            "6 is a not Fibonacci Number \n",
            "7 is a not Fibonacci Number \n",
            "8 is a Fibonacci Number\n",
            "9 is a not Fibonacci Number \n",
            "10 is a not Fibonacci Number \n"
          ]
        }
      ]
    },
    {
      "cell_type": "markdown",
      "source": [
        "**Program to print ASCII Value of a character**"
      ],
      "metadata": {
        "id": "E77JkTQTSk3-"
      }
    },
    {
      "cell_type": "code",
      "source": [
        "# Python program to print\n",
        "# ASCII Value of Character\n",
        "\n",
        "# In c we can assign different\n",
        "# characters of which we want ASCII value\n",
        "\n",
        "c = 'g'\n",
        "# print the ASCII value of assigned character in c\n",
        "print(\"The ASCII value of '\" + c + \"' is\", ord(c))"
      ],
      "metadata": {
        "id": "KeSnAkn3X-MU",
        "colab": {
          "base_uri": "https://localhost:8080/"
        },
        "outputId": "b8f61c78-aeb4-464d-8d4a-49d2d332396d"
      },
      "execution_count": null,
      "outputs": [
        {
          "output_type": "stream",
          "name": "stdout",
          "text": [
            "The ASCII value of 'g' is 103\n"
          ]
        }
      ]
    },
    {
      "cell_type": "markdown",
      "source": [
        "**Python Program for Sum of squares of first n natural numbers**"
      ],
      "metadata": {
        "id": "eh4sf6uQSyYV"
      }
    },
    {
      "cell_type": "code",
      "source": [
        "def sq(n):\n",
        "  sum = 0\n",
        "  for i in range(1, n):\n",
        "    while i <= n:\n",
        "      sum += (i**2)\n",
        "      i += 1\n",
        "    return sum\n",
        "\n",
        "print(sq(4))"
      ],
      "metadata": {
        "id": "NxbcwmA0X-PB",
        "colab": {
          "base_uri": "https://localhost:8080/"
        },
        "outputId": "4c42bfd5-1dd4-4d00-d2bd-edc5d75e6355"
      },
      "execution_count": null,
      "outputs": [
        {
          "output_type": "stream",
          "name": "stdout",
          "text": [
            "30\n"
          ]
        }
      ]
    },
    {
      "cell_type": "code",
      "source": [
        "print(sq(5))"
      ],
      "metadata": {
        "id": "tAiZk2OEX-Sa",
        "colab": {
          "base_uri": "https://localhost:8080/"
        },
        "outputId": "647bf2f4-71b2-42aa-dc81-cb9df57a58c8"
      },
      "execution_count": null,
      "outputs": [
        {
          "output_type": "stream",
          "name": "stdout",
          "text": [
            "55\n"
          ]
        }
      ]
    },
    {
      "cell_type": "markdown",
      "source": [
        "**Python Program for cube sum of first n natural numbers**"
      ],
      "metadata": {
        "id": "ccSBtj6zUOG_"
      }
    },
    {
      "cell_type": "code",
      "source": [
        "def sq(n):\n",
        "  sum = 0\n",
        "  for i in range(1, n):\n",
        "    while i <= n:\n",
        "      sum += (i**3)\n",
        "      i += 1\n",
        "    return sum\n",
        "\n",
        "print(sq(5))\n",
        "print(sq(7))"
      ],
      "metadata": {
        "id": "L5dv2rhuX-Up",
        "colab": {
          "base_uri": "https://localhost:8080/"
        },
        "outputId": "0bcb252b-03c1-4f17-9460-e5e87e49d556"
      },
      "execution_count": null,
      "outputs": [
        {
          "output_type": "stream",
          "name": "stdout",
          "text": [
            "225\n",
            "784\n"
          ]
        }
      ]
    }
  ]
}